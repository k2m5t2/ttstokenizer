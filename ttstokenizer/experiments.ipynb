{
 "cells": [
  {
   "cell_type": "code",
   "execution_count": 1,
   "metadata": {},
   "outputs": [],
   "source": [
    "from ttstokenizer import TTSTokenizer\n",
    "import yaml"
   ]
  },
  {
   "cell_type": "code",
   "execution_count": 2,
   "metadata": {},
   "outputs": [
    {
     "name": "stdout",
     "output_type": "stream",
     "text": [
      "['T', 'EH1', 'K', 'S', 'T', 'T', 'UW1', 'T', 'OW1', 'K', 'AH0', 'N', 'AY2', 'Z']\n"
     ]
    }
   ],
   "source": [
    "tokenizer = TTSTokenizer()\n",
    "print(tokenizer(\"Text to tokenize\"))"
   ]
  },
  {
   "cell_type": "code",
   "execution_count": 4,
   "metadata": {},
   "outputs": [
    {
     "name": "stdout",
     "output_type": "stream",
     "text": [
      "[ 4 15 10  6  4  4 28  4 34 10  2  3 51 11]\n"
     ]
    }
   ],
   "source": [
    "with open(\"./ljspeech_config.yaml\", \"r\", encoding=\"utf-8\") as f:\n",
    "    config = yaml.safe_load(f)\n",
    "ljspeech_tokenizer = TTSTokenizer(config[\"token\"][\"list\"])\n",
    "print(ljspeech_tokenizer(\"Text to tokenize\"))"
   ]
  },
  {
   "cell_type": "markdown",
   "metadata": {},
   "source": [
    "Pretty much: ljspeech_config maps phonemes into indices according to a pre-set LUT. \n",
    "\n",
    "Which means: once things are turned into phonemes, everything else is easy. "
   ]
  },
  {
   "cell_type": "code",
   "execution_count": null,
   "metadata": {},
   "outputs": [],
   "source": []
  }
 ],
 "metadata": {
  "kernelspec": {
   "display_name": "Python 3",
   "language": "python",
   "name": "python3"
  },
  "language_info": {
   "codemirror_mode": {
    "name": "ipython",
    "version": 3
   },
   "file_extension": ".py",
   "mimetype": "text/x-python",
   "name": "python",
   "nbconvert_exporter": "python",
   "pygments_lexer": "ipython3",
   "version": "3.11.6"
  }
 },
 "nbformat": 4,
 "nbformat_minor": 2
}
